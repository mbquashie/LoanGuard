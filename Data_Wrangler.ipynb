{
 "cells": [
  {
   "cell_type": "code",
   "execution_count": 1,
   "metadata": {},
   "outputs": [],
   "source": [
    "import loan_default_data_wrangler as ld"
   ]
  },
  {
   "cell_type": "code",
   "execution_count": 2,
   "metadata": {},
   "outputs": [
    {
     "name": "stdout",
     "output_type": "stream",
     "text": [
      "Data loaded with shape: (2260701, 151)\n",
      "Removed irrelevant columns. New shape: (2260701, 144)\n",
      "Filtered target variable. Rows before: 2260701, after: 1345310\n",
      "Removed single-value columns: ['pymnt_plan', 'out_prncp', 'out_prncp_inv', 'policy_code', 'hardship_flag', 'hardship_type', 'deferral_term', 'hardship_length']. New shape: (1345310, 136)\n",
      "Replaced empty strings with NaN in column: term\n",
      "Replaced empty strings with NaN in column: emp_length\n"
     ]
    },
    {
     "name": "stderr",
     "output_type": "stream",
     "text": [
      "/Users/mbq/Desktop/Project_Erdos/loan_default_data_wrangler.py:101: FutureWarning: A value is trying to be set on a copy of a DataFrame or Series through chained assignment using an inplace method.\n",
      "The behavior will change in pandas 3.0. This inplace method will never work because the intermediate object on which we are setting values always behaves as a copy.\n",
      "\n",
      "For example, when doing 'df[col].method(value, inplace=True)', try using 'df.method({col: value}, inplace=True)' or df[col] = df[col].method(value) instead, to perform the operation inplace on the original object.\n",
      "\n",
      "\n",
      "  df[col].replace('', np.nan, inplace=True)\n"
     ]
    },
    {
     "name": "stdout",
     "output_type": "stream",
     "text": [
      "Dropped columns with >10% missing values: ['desc', 'mths_since_last_delinq', 'mths_since_last_record', 'next_pymnt_d', 'mths_since_last_major_derog', 'annual_inc_joint', 'dti_joint', 'verification_status_joint', 'open_acc_6m', 'open_act_il', 'open_il_12m', 'open_il_24m', 'mths_since_rcnt_il', 'total_bal_il', 'il_util', 'open_rv_12m', 'open_rv_24m', 'max_bal_bc', 'all_util', 'inq_fi', 'total_cu_tl', 'inq_last_12m', 'mths_since_recent_bc_dlq', 'mths_since_recent_inq', 'mths_since_recent_revol_delinq', 'revol_bal_joint', 'sec_app_fico_range_low', 'sec_app_fico_range_high', 'sec_app_earliest_cr_line', 'sec_app_inq_last_6mths', 'sec_app_mort_acc', 'sec_app_open_acc', 'sec_app_revol_util', 'sec_app_open_act_il', 'sec_app_num_rev_accts', 'sec_app_chargeoff_within_12_mths', 'sec_app_collections_12_mths_ex_med', 'sec_app_mths_since_last_major_derog', 'hardship_reason', 'hardship_status', 'hardship_amount', 'hardship_start_date', 'hardship_end_date', 'payment_plan_start_date', 'hardship_dpd', 'hardship_loan_status', 'orig_projected_additional_accrued_interest', 'hardship_payoff_balance_amount', 'hardship_last_payment_amount', 'debt_settlement_flag_date', 'settlement_status', 'settlement_date', 'settlement_amount', 'settlement_percentage', 'settlement_term']. New shape: (1345310, 81)\n",
      "Columns with remaining missing values: ['emp_length', 'dti', 'inq_last_6mths', 'revol_util', 'last_pymnt_d', 'last_credit_pull_d', 'collections_12_mths_ex_med', 'tot_coll_amt', 'tot_cur_bal', 'total_rev_hi_lim', 'acc_open_past_24mths', 'avg_cur_bal', 'bc_open_to_buy', 'bc_util', 'chargeoff_within_12_mths', 'mo_sin_old_il_acct', 'mo_sin_old_rev_tl_op', 'mo_sin_rcnt_rev_tl_op', 'mo_sin_rcnt_tl', 'mort_acc', 'mths_since_recent_bc', 'num_accts_ever_120_pd', 'num_actv_bc_tl', 'num_actv_rev_tl', 'num_bc_sats', 'num_bc_tl', 'num_il_tl', 'num_op_rev_tl', 'num_rev_accts', 'num_rev_tl_bal_gt_0', 'num_sats', 'num_tl_120dpd_2m', 'num_tl_30dpd', 'num_tl_90g_dpd_24m', 'num_tl_op_past_12m', 'pct_tl_nvr_dlq', 'percent_bc_gt_75', 'pub_rec_bankruptcies', 'tax_liens', 'tot_hi_cred_lim', 'total_bal_ex_mort', 'total_bc_limit', 'total_il_high_credit_limit']\n",
      "Dropped rows with missing values in critical columns: ['emp_length', 'last_credit_pull_d', 'last_pymnt_d']. Rows before: 1345310, after: 1264670\n",
      "Imputed missing values in numerical columns with mean: ['dti', 'inq_last_6mths', 'revol_util', 'collections_12_mths_ex_med', 'tot_coll_amt', 'tot_cur_bal', 'total_rev_hi_lim', 'acc_open_past_24mths', 'avg_cur_bal', 'bc_open_to_buy', 'bc_util', 'chargeoff_within_12_mths', 'mo_sin_old_il_acct', 'mo_sin_old_rev_tl_op', 'mo_sin_rcnt_rev_tl_op', 'mo_sin_rcnt_tl', 'mort_acc', 'mths_since_recent_bc', 'num_accts_ever_120_pd', 'num_actv_bc_tl', 'num_actv_rev_tl', 'num_bc_sats', 'num_bc_tl', 'num_il_tl', 'num_op_rev_tl', 'num_rev_accts', 'num_rev_tl_bal_gt_0', 'num_sats', 'num_tl_120dpd_2m', 'num_tl_30dpd', 'num_tl_90g_dpd_24m', 'num_tl_op_past_12m', 'pct_tl_nvr_dlq', 'percent_bc_gt_75', 'pub_rec_bankruptcies', 'tax_liens', 'tot_hi_cred_lim', 'total_bal_ex_mort', 'total_bc_limit', 'total_il_high_credit_limit']\n",
      "No categorical columns with missing values to handle.\n",
      "Converted 'term' to 'loan_term' as numeric.\n",
      "Processed 'emp_length' to 'employment_length' as numeric.\n",
      "Split 'earliest_cr_line' into 'earliest_cr_line_month' and 'earliest_cr_line_year' as numeric.\n",
      "Split 'issue_d' into 'issue_d_month' and 'issue_d_year' as numeric.\n",
      "Split 'last_pymnt_d' into 'last_pymnt_d_month' and 'last_pymnt_d_year' as numeric.\n",
      "Split 'last_credit_pull_d' into 'last_credit_pull_d_month' and 'last_credit_pull_d_year' as numeric.\n",
      "Encoded 'loan_status' to 'loan_outcome' as binary.\n",
      "Created dummy variables for categorical columns: ['grade', 'sub_grade', 'home_ownership', 'verification_status', 'purpose', 'initial_list_status', 'application_type', 'disbursement_method', 'debt_settlement_flag', 'earliest_cr_line_month', 'issue_d_month', 'last_pymnt_d_month', 'last_credit_pull_d_month']\n",
      "Removed outliers. Rows before: 1264670, after: 1136033. Retained: 89.83% of data.\n",
      "Data wrangling complete. Processed data saved to /Users/mbq/Desktop/Project_Erdos/Data/processed_loan_data.csv\n"
     ]
    }
   ],
   "source": [
    "# Load the data\n",
    "data_file_path = \"/Users/mbq/Desktop/Project_Erdos/Data/loan_data.csv\"\n",
    "df = ld.load_data(data_file_path)\n",
    "\n",
    "# Remove irrelevant columns\n",
    "df = ld.remove_irrelevant_columns(df)\n",
    "\n",
    "# Filter target variable\n",
    "df = ld.filter_target_variable(df)\n",
    "\n",
    "# Remove single-value columns\n",
    "df = ld.remove_single_value_columns(df)\n",
    "\n",
    "# Handle missing values\n",
    "df = ld.handle_missing_values(df)\n",
    "\n",
    "# Convert and engineer features\n",
    "df = ld.convert_and_engineer_features(df)\n",
    "\n",
    "# Encode target variable\n",
    "df = ld.encode_target_variable(df)\n",
    "\n",
    "# Create dummy variables\n",
    "df = ld.create_dummy_variables(df)\n",
    "\n",
    "# Remove outliers\n",
    "df = ld.remove_outliers(df)\n",
    "\n",
    "# Save the processed data\n",
    "processed_data_path = \"/Users/mbq/Desktop/Project_Erdos/Data/processed_loan_data.csv\"\n",
    "df.to_csv(processed_data_path, index=False)\n",
    "print(f\"Data wrangling complete. Processed data saved to {processed_data_path}\")\n"
   ]
  },
  {
   "cell_type": "code",
   "execution_count": null,
   "metadata": {},
   "outputs": [],
   "source": []
  }
 ],
 "metadata": {
  "kernelspec": {
   "display_name": "Code",
   "language": "python",
   "name": "python3"
  },
  "language_info": {
   "codemirror_mode": {
    "name": "ipython",
    "version": 3
   },
   "file_extension": ".py",
   "mimetype": "text/x-python",
   "name": "python",
   "nbconvert_exporter": "python",
   "pygments_lexer": "ipython3",
   "version": "3.12.2"
  }
 },
 "nbformat": 4,
 "nbformat_minor": 2
}
