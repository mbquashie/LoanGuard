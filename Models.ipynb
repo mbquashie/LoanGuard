{
 "cells": [
  {
   "cell_type": "code",
   "execution_count": null,
   "metadata": {},
   "outputs": [],
   "source": [
    "# Import required libraries\n",
    "import pandas as pd\n",
    "from logistic_regression import train_logistic_regression\n",
    "from naive_bayes import train_naive_bayes\n",
    "from decision_tree import train_decision_tree\n",
    "from random_forest import train_random_forest\n",
    "from gradient_boosting import train_gradient_boosting\n",
    "from xgboost_model import train_xgboost\n",
    "\n",
    "# Load the datasets\n",
    "print(\"Loading data...\")\n",
    "X_train = pd.read_csv(\"X_train.csv\")\n",
    "X_test = pd.read_csv(\"X_test.csv\")\n",
    "y_train = pd.read_csv(\"y_train.csv\").squeeze()  # Convert to Series\n",
    "y_test = pd.read_csv(\"y_test.csv\").squeeze()    # Convert to Series\n",
    "\n",
    "# Ensure correct loading\n",
    "print(f\"X_train shape: {X_train.shape}, y_train shape: {y_train.shape}\")\n",
    "print(f\"X_test shape: {X_test.shape}, y_test shape: {y_test.shape}\")\n",
    "\n",
    "# Train Logistic Regression\n",
    "print(\"Training Logistic Regression...\")\n",
    "train_logistic_regression(X_train, y_train, X_test, y_test)\n",
    "\n",
    "# Train Naive Bayes\n",
    "print(\"Training Naive Bayes...\")\n",
    "train_naive_bayes(X_train, y_train, X_test, y_test)\n",
    "\n",
    "# Train Decision Tree\n",
    "print(\"Training Decision Tree...\")\n",
    "train_decision_tree(X_train, y_train, X_test, y_test)\n",
    "\n",
    "# Train Random Forest\n",
    "print(\"Training Random Forest...\")\n",
    "train_random_forest(X_train, y_train, X_test, y_test)\n",
    "\n",
    "# Train Gradient Boosting\n",
    "print(\"Training Gradient Boosting...\")\n",
    "train_gradient_boosting(X_train, y_train, X_test, y_test)\n",
    "\n",
    "# Train XGBoost\n",
    "print(\"Training XGBoost...\")\n",
    "train_xgboost(X_train, y_train, X_test, y_test)\n",
    "\n",
    "print(\"All models trained and saved successfully.\")\n"
   ]
  }
 ],
 "metadata": {
  "language_info": {
   "name": "python"
  }
 },
 "nbformat": 4,
 "nbformat_minor": 2
}
